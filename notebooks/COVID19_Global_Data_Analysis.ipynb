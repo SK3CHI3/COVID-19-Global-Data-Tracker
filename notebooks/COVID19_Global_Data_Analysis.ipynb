{
 "cells": [
  {
   "cell_type": "markdown",
   "metadata": {},
   "source": [
    "# COVID-19 Global Data Tracker\n",
    "\n",
    "This notebook analyzes global COVID-19 trends, including cases, deaths, and vaccinations across countries and time. We'll clean and process the data, perform exploratory data analysis, generate insights, and visualize trends using Python data tools."
   ]
  },
  {
   "cell_type": "markdown",
   "metadata": {},
   "source": [
    "## 1. Data Loading & Exploration\n",
    "\n",
    "First, let's import the necessary libraries and load the COVID-19 dataset from Our World in Data."
   ]
  },
  {
   "cell_type": "code",
   "execution_count": null,
   "metadata": {},
   "source": [
    "# Import necessary libraries\n",
    "import pandas as pd\n",
    "import numpy as np\n",
    "import matplotlib.pyplot as plt\n",
    "import seaborn as sns\n",
    "import plotly.express as px\n",
    "from datetime import datetime\n",
    "\n",
    "# Set plot styles\n",
    "plt.style.use('seaborn-whitegrid')\n",
    "sns.set_palette('viridis')\n",
    "%matplotlib inline\n",
    "plt.rcParams['figure.figsize'] = (12, 8)"
   ]
  },
  {
   "cell_type": "code",
   "execution_count": null,
   "metadata": {},
   "source": [
    "# Load the dataset\n",
    "file_path = '../data/owid-covid-data.csv'\n",
    "df = pd.read_csv(file_path)\n",
    "\n",
    "# Display basic information about the dataset\n",
    "print(f\"Dataset shape: {df.shape}\")\n",
    "print(f\"\\nColumns in the dataset:\\n{df.columns.tolist()}\")\n",
    "print(f\"\\nData types:\\n{df.dtypes}\")\n",
    "print(f\"\\nFirst few rows:\")\n",
    "df.head()"
   ]
  },
  {
   "cell_type": "code",
   "execution_count": null,
   "metadata": {},
   "source": [
    "# Check for missing values\n",
    "missing_values = df.isnull().sum()\n",
    "print(\"Missing values in each column:\")\n",
    "missing_values[missing_values > 0].sort_values(ascending=False)"
   ]
  },
  {
   "cell_type": "markdown",
   "metadata": {},
   "source": [
    "### Key Columns\n",
    "\n",
    "The dataset contains numerous columns. Here are the most important ones for our analysis:\n",
    "\n",
    "- **Identifiers**:\n",
    "  - `iso_code`: ISO 3166-1 alpha-3 country code\n",
    "  - `continent`: Continent of the geographical location\n",
    "  - `location`: Geographical location (typically a country)\n",
    "  - `date`: Date of observation\n",
    "\n",
    "- **Case Data**:\n",
    "  - `total_cases`: Total confirmed cases of COVID-19\n",
    "  - `new_cases`: New confirmed cases of COVID-19\n",
    "  - `new_cases_smoothed`: New confirmed cases (7-day smoothed)\n",
    "\n",
    "- **Death Data**:\n",
    "  - `total_deaths`: Total deaths attributed to COVID-19\n",
    "  - `new_deaths`: New deaths attributed to COVID-19\n",
    "  - `new_deaths_smoothed`: New deaths (7-day smoothed)\n",
    "\n",
    "- **Vaccination Data**:\n",
    "  - `total_vaccinations`: Total vaccination doses administered\n",
    "  - `people_vaccinated`: People who received at least one dose\n",
    "  - `people_fully_vaccinated`: People who received all doses prescribed\n",
    "  - `people_fully_vaccinated_per_hundred`: Percentage of population fully vaccinated\n",
    "\n",
    "- **Demographic Data**:\n",
    "  - `population`: Population in 2020\n",
    "  - `population_density`: Number of people per square kilometer\n",
    "  - `median_age`: Median age of the population\n",
    "  - `gdp_per_capita`: Gross domestic product at purchasing power parity\n",
    "\n",
    "We'll also calculate a derived metric:\n",
    "- `death_rate`: Calculated as `total_deaths / total_cases`"
   ]
  },
  {
   "cell_type": "code",
   "execution_count": null,
   "metadata": {},
   "source": [
    "# Get unique countries/locations in the dataset\n",
    "print(f\"Number of unique countries/locations: {df['location'].nunique()}\")\n",
    "print(f\"\\nList of continents: {df['continent'].unique().tolist()}\")"
   ]
  },
  {
   "cell_type": "markdown",
   "metadata": {},
   "source": [
    "## 2. Data Cleaning\n",
    "\n",
    "Let's clean the data by converting the date column to datetime, handling missing values, and filtering for countries of interest."
   ]
  },
  {
   "cell_type": "code",
   "execution_count": null,
   "metadata": {},
   "source": [
    "# Convert date column to datetime\n",
    "df['date'] = pd.to_datetime(df['date'])\n",
    "\n",
    "# Create a list of countries of interest\n",
    "countries_of_interest = ['Kenya', 'United States', 'India', 'South Africa', 'United Kingdom', 'Brazil', 'China']\n",
    "\n",
    "# Filter the dataset for these countries\n",
    "df_countries = df[df['location'].isin(countries_of_interest)]\n",
    "\n",
    "# Display the first few rows of the filtered dataset\n",
    "df_countries.head()"
   ]
  },
  {
   "cell_type": "code",
   "execution_count": null,
   "metadata": {},
   "source": [
    "# Calculate death rate (total_deaths / total_cases)\n",
    "df_countries['death_rate'] = df_countries['total_deaths'] / df_countries['total_cases']\n",
    "\n",
    "# Handle missing values in key columns\n",
    "# For numeric columns, we'll fill NaN with 0 for simplicity\n",
    "numeric_cols = ['total_cases', 'new_cases', 'total_deaths', 'new_deaths', 'total_vaccinations', 'people_vaccinated', 'people_fully_vaccinated']\n",
    "df_countries[numeric_cols] = df_countries[numeric_cols].fillna(0)\n",
    "\n",
    "# Check the cleaned data\n",
    "df_countries.head()"
   ]
  },
  {
   "cell_type": "markdown",
   "metadata": {},
   "source": [
    "## 3. Exploratory Data Analysis (EDA)\n",
    "\n",
    "Now, let's analyze the COVID-19 trends over time for our selected countries."
   ]
  },
  {
   "cell_type": "code",
   "execution_count": null,
   "metadata": {},
   "source": [
    "# Get the latest date in the dataset\n",
    "latest_date = df['date'].max()\n",
    "print(f\"Latest date in the dataset: {latest_date}\")\n",
    "\n",
    "# Get the total cases and deaths for each country as of the latest date\n",
    "latest_data = df_countries[df_countries['date'] == latest_date].sort_values('total_cases', ascending=False)\n",
    "\n",
    "# Display the latest statistics\n",
    "latest_data[['location', 'total_cases', 'total_deaths', 'death_rate']].reset_index(drop=True)"
   ]
  },
  {
   "cell_type": "code",
   "execution_count": null,
   "metadata": {},
   "source": [
    "# Plot total cases over time for selected countries\n",
    "plt.figure(figsize=(14, 8))\n",
    "\n",
    "for country in countries_of_interest:\n",
    "    country_data = df_countries[df_countries['location'] == country]\n",
    "    plt.plot(country_data['date'], country_data['total_cases'], label=country)\n",
    "\n",
    "plt.title('Total COVID-19 Cases Over Time', fontsize=16)\n",
    "plt.xlabel('Date', fontsize=12)\n",
    "plt.ylabel('Total Cases', fontsize=12)\n",
    "plt.legend()\n",
    "plt.grid(True)\n",
    "plt.xticks(rotation=45)\n",
    "plt.tight_layout()\n",
    "plt.show()"
   ]
  },
  {
   "cell_type": "code",
   "execution_count": null,
   "metadata": {},
   "source": [
    "# Plot total deaths over time for selected countries\n",
    "plt.figure(figsize=(14, 8))\n",
    "\n",
    "for country in countries_of_interest:\n",
    "    country_data = df_countries[df_countries['location'] == country]\n",
    "    plt.plot(country_data['date'], country_data['total_deaths'], label=country)\n",
    "\n",
    "plt.title('Total COVID-19 Deaths Over Time', fontsize=16)\n",
    "plt.xlabel('Date', fontsize=12)\n",
    "plt.ylabel('Total Deaths', fontsize=12)\n",
    "plt.legend()\n",
    "plt.grid(True)\n",
    "plt.xticks(rotation=45)\n",
    "plt.tight_layout()\n",
    "plt.show()"
   ]
  },
  {
   "cell_type": "code",
   "execution_count": null,
   "metadata": {},
   "source": [
    "# Plot daily new cases for selected countries\n",
    "plt.figure(figsize=(14, 8))\n",
    "\n",
    "for country in countries_of_interest:\n",
    "    country_data = df_countries[df_countries['location'] == country]\n",
    "    # Use 7-day moving average for smoother visualization\n",
    "    plt.plot(country_data['date'], country_data['new_cases_smoothed'], label=country)\n",
    "\n",
    "plt.title('Daily New COVID-19 Cases (7-day Moving Average)', fontsize=16)\n",
    "plt.xlabel('Date', fontsize=12)\n",
    "plt.ylabel('New Cases', fontsize=12)\n",
    "plt.legend()\n",
    "plt.grid(True)\n",
    "plt.xticks(rotation=45)\n",
    "plt.tight_layout()\n",
    "plt.show()"
   ]
  },
  {
   "cell_type": "code",
   "execution_count": null,
   "metadata": {},
   "source": [
    "# Compare death rates across countries\n",
    "latest_death_rates = latest_data[['location', 'death_rate']].sort_values('death_rate', ascending=False)\n",
    "\n",
    "plt.figure(figsize=(12, 6))\n",
    "sns.barplot(x='location', y='death_rate', data=latest_death_rates)\n",
    "plt.title('COVID-19 Death Rate by Country (Latest Data)', fontsize=16)\n",
    "plt.xlabel('Country', fontsize=12)\n",
    "plt.ylabel('Death Rate (Deaths/Cases)', fontsize=12)\n",
    "plt.xticks(rotation=45)\n",
    "plt.tight_layout()\n",
    "plt.show()"
   ]
  },
  {
   "cell_type": "markdown",
   "metadata": {},
   "source": [
    "## 4. Vaccination Analysis\n",
    "\n",
    "Let's analyze the vaccination progress across countries."
   ]
  },
  {
   "cell_type": "code",
   "execution_count": null,
   "metadata": {},
   "source": [
    "# Plot vaccination progress over time\n",
    "plt.figure(figsize=(14, 8))\n",
    "\n",
    "for country in countries_of_interest:\n",
    "    country_data = df_countries[df_countries['location'] == country]\n",
    "    plt.plot(country_data['date'], country_data['people_fully_vaccinated_per_hundred'], label=country)\n",
    "\n",
    "plt.title('Percentage of Population Fully Vaccinated Over Time', fontsize=16)\n",
    "plt.xlabel('Date', fontsize=12)\n",
    "plt.ylabel('Percentage Fully Vaccinated', fontsize=12)\n",
    "plt.legend()\n",
    "plt.grid(True)\n",
    "plt.xticks(rotation=45)\n",
    "plt.tight_layout()\n",
    "plt.show()"
   ]
  },
  {
   "cell_type": "code",
   "execution_count": null,
   "metadata": {},
   "source": [
    "# Compare vaccination rates across countries (latest data)\n",
    "latest_vax_data = latest_data[['location', 'people_fully_vaccinated_per_hundred']].sort_values('people_fully_vaccinated_per_hundred', ascending=False)\n",
    "\n",
    "plt.figure(figsize=(12, 6))\n",
    "sns.barplot(x='location', y='people_fully_vaccinated_per_hundred', data=latest_vax_data)\n",
    "plt.title('Percentage of Population Fully Vaccinated by Country (Latest Data)', fontsize=16)\n",
    "plt.xlabel('Country', fontsize=12)\n",
    "plt.ylabel('Percentage Fully Vaccinated', fontsize=12)\n",
    "plt.xticks(rotation=45)\n",
    "plt.tight_layout()\n",
    "plt.show()"
   ]
  },
  {
   "cell_type": "markdown",
   "metadata": {},
   "source": [
    "## 5. Choropleth Map Visualization\n",
    "\n",
    "Let's create a world map showing COVID-19 cases and vaccination rates by country."
   ]
  },
  {
   "cell_type": "code",
   "execution_count": null,
   "metadata": {},
   "source": [
    "# Get the latest data for all countries\n",
    "latest_global_data = df[df['date'] == latest_date].copy()\n",
    "\n",
    "# Create a choropleth map of total cases per million\n",
    "fig = px.choropleth(\n",
    "    latest_global_data,\n",
    "    locations=\"iso_code\",\n",
    "    color=\"total_cases_per_million\",\n",
    "    hover_name=\"location\",\n",
    "    hover_data=[\"total_cases\", \"total_deaths\", \"total_cases_per_million\"],\n",
    "    title=\"COVID-19 Total Cases per Million by Country\",\n",
    "    color_continuous_scale=px.colors.sequential.Plasma,\n",
    "    projection=\"natural earth\"\n",
    ")\n",
    "\n",
    "fig.update_layout(height=600, margin={\"r\":0,\"t\":30,\"l\":0,\"b\":0})\n",
    "fig.show()"
   ]
  },
  {
   "cell_type": "code",
   "execution_count": null,
   "metadata": {},
   "source": [
    "# Create a choropleth map of vaccination rates\n",
    "fig = px.choropleth(\n",
    "    latest_global_data,\n",
    "    locations=\"iso_code\",\n",
    "    color=\"people_fully_vaccinated_per_hundred\",\n",
    "    hover_name=\"location\",\n",
    "    hover_data=[\"people_fully_vaccinated_per_hundred\", \"total_vaccinations_per_hundred\"],\n",
    "    title=\"COVID-19 Vaccination Rates by Country (% Fully Vaccinated)\",\n",
    "    color_continuous_scale=px.colors.sequential.Viridis,\n",
    "    projection=\"natural earth\"\n",
    ")\n",
    "\n",
    "fig.update_layout(height=600, margin={\"r\":0,\"t\":30,\"l\":0,\"b\":0})\n",
    "fig.show()"
   ]
  },
  {
   "cell_type": "markdown",
   "metadata": {},
   "source": [
    "## 6. Insights & Reporting\n",
    "\n",
    "Based on our analysis, here are some key insights about the global COVID-19 trends:"
   ]
  },
  {
   "cell_type": "markdown",
   "metadata": {},
   "source": [
    "### Key Insights:\n",
    "\n",
    "1. **Case Distribution**: The United States, India, and Brazil have consistently shown the highest total case counts among our selected countries, reflecting both population size and varying effectiveness of containment measures.\n",
    "\n",
    "2. **Death Rates**: Death rates vary significantly across countries, which may be attributed to differences in healthcare systems, population demographics, testing capacity, and reporting methodologies.\n",
    "\n",
    "3. **Vaccination Progress**: There are substantial disparities in vaccination rates globally. Developed nations generally show higher vaccination rates compared to developing countries, highlighting issues of vaccine equity and distribution.\n",
    "\n",
    "4. **Waves of Infection**: The data shows distinct waves of infection across different countries, often occurring at different times, demonstrating the global yet asynchronous nature of the pandemic.\n",
    "\n",
    "5. **Regional Patterns**: The choropleth maps reveal regional patterns in both case rates and vaccination coverage, with notable variations between continents and economic regions."
   ]
  },
  {
   "cell_type": "markdown",
   "metadata": {},
   "source": [
    "### Conclusion:\n",
    "\n",
    "The COVID-19 pandemic has affected countries around the world in different ways, with variations in case numbers, death rates, and vaccination progress. These differences reflect a complex interplay of factors including healthcare infrastructure, government policies, population demographics, and economic resources.\n",
    "\n",
    "Our analysis highlights the importance of global cooperation in pandemic response, as well as the need for equitable access to vaccines and healthcare resources. The data also underscores the value of timely and accurate reporting in understanding and responding to global health crises."
   ]
  }
 ],
 "metadata": {
  "kernelspec": {
   "display_name": "Python 3",
   "language": "python",
   "name": "python3"
  },
  "language_info": {
   "codemirror_mode": {
    "name": "ipython",
    "version": 3
   },
   "file_extension": ".py",
   "mimetype": "text/x-python",
   "name": "python",
   "nbconvert_exporter": "python",
   "pygments_lexer": "ipython3",
   "version": "3.8.10"
  }
 },
 "nbformat": 4,
 "nbformat_minor": 4
}
